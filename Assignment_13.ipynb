{
  "nbformat": 4,
  "nbformat_minor": 0,
  "metadata": {
    "colab": {
      "provenance": [],
      "include_colab_link": true
    },
    "kernelspec": {
      "name": "python3",
      "display_name": "Python 3"
    },
    "language_info": {
      "name": "python"
    }
  },
  "cells": [
    {
      "cell_type": "markdown",
      "metadata": {
        "id": "view-in-github",
        "colab_type": "text"
      },
      "source": [
        "<a href=\"https://colab.research.google.com/github/sathiyakeerthy/task_7/blob/main/Assignment_13.ipynb\" target=\"_parent\"><img src=\"https://colab.research.google.com/assets/colab-badge.svg\" alt=\"Open In Colab\"/></a>"
      ]
    },
    {
      "cell_type": "code",
      "source": [
        "#Social_Networks_Ads.csv"
      ],
      "metadata": {
        "id": "HeXYlZ7RZrug"
      },
      "execution_count": null,
      "outputs": []
    },
    {
      "cell_type": "markdown",
      "source": [
        "Importing the libraries"
      ],
      "metadata": {
        "id": "gyw8UtQuZsKU"
      }
    },
    {
      "cell_type": "code",
      "execution_count": 1,
      "metadata": {
        "id": "aXXTkdLuIpEH"
      },
      "outputs": [],
      "source": [
        "import pandas as pd\n",
        "import numpy as np\n",
        "import matplotlib.pyplot as plt\n",
        "import seaborn as sns\n"
      ]
    },
    {
      "cell_type": "markdown",
      "source": [
        "Importing the dataset"
      ],
      "metadata": {
        "id": "Pz1knzKCZuib"
      }
    },
    {
      "cell_type": "code",
      "source": [
        "data = pd.read_csv('/content/Social_Network_Ads.csv')\n",
        "data.head()"
      ],
      "metadata": {
        "colab": {
          "base_uri": "https://localhost:8080/",
          "height": 206
        },
        "id": "XlcmkCboIxW1",
        "outputId": "755f6442-4c40-4b9a-df55-564d85084e50"
      },
      "execution_count": 3,
      "outputs": [
        {
          "output_type": "execute_result",
          "data": {
            "text/plain": [
              "    User ID  Gender  Age  EstimatedSalary  Purchased\n",
              "0  15624510    Male   19            19000          0\n",
              "1  15810944    Male   35            20000          0\n",
              "2  15668575  Female   26            43000          0\n",
              "3  15603246  Female   27            57000          0\n",
              "4  15804002    Male   19            76000          0"
            ],
            "text/html": [
              "\n",
              "  <div id=\"df-a96c3a4a-25c4-4f85-b44e-f5df1d2f25e8\">\n",
              "    <div class=\"colab-df-container\">\n",
              "      <div>\n",
              "<style scoped>\n",
              "    .dataframe tbody tr th:only-of-type {\n",
              "        vertical-align: middle;\n",
              "    }\n",
              "\n",
              "    .dataframe tbody tr th {\n",
              "        vertical-align: top;\n",
              "    }\n",
              "\n",
              "    .dataframe thead th {\n",
              "        text-align: right;\n",
              "    }\n",
              "</style>\n",
              "<table border=\"1\" class=\"dataframe\">\n",
              "  <thead>\n",
              "    <tr style=\"text-align: right;\">\n",
              "      <th></th>\n",
              "      <th>User ID</th>\n",
              "      <th>Gender</th>\n",
              "      <th>Age</th>\n",
              "      <th>EstimatedSalary</th>\n",
              "      <th>Purchased</th>\n",
              "    </tr>\n",
              "  </thead>\n",
              "  <tbody>\n",
              "    <tr>\n",
              "      <th>0</th>\n",
              "      <td>15624510</td>\n",
              "      <td>Male</td>\n",
              "      <td>19</td>\n",
              "      <td>19000</td>\n",
              "      <td>0</td>\n",
              "    </tr>\n",
              "    <tr>\n",
              "      <th>1</th>\n",
              "      <td>15810944</td>\n",
              "      <td>Male</td>\n",
              "      <td>35</td>\n",
              "      <td>20000</td>\n",
              "      <td>0</td>\n",
              "    </tr>\n",
              "    <tr>\n",
              "      <th>2</th>\n",
              "      <td>15668575</td>\n",
              "      <td>Female</td>\n",
              "      <td>26</td>\n",
              "      <td>43000</td>\n",
              "      <td>0</td>\n",
              "    </tr>\n",
              "    <tr>\n",
              "      <th>3</th>\n",
              "      <td>15603246</td>\n",
              "      <td>Female</td>\n",
              "      <td>27</td>\n",
              "      <td>57000</td>\n",
              "      <td>0</td>\n",
              "    </tr>\n",
              "    <tr>\n",
              "      <th>4</th>\n",
              "      <td>15804002</td>\n",
              "      <td>Male</td>\n",
              "      <td>19</td>\n",
              "      <td>76000</td>\n",
              "      <td>0</td>\n",
              "    </tr>\n",
              "  </tbody>\n",
              "</table>\n",
              "</div>\n",
              "      <button class=\"colab-df-convert\" onclick=\"convertToInteractive('df-a96c3a4a-25c4-4f85-b44e-f5df1d2f25e8')\"\n",
              "              title=\"Convert this dataframe to an interactive table.\"\n",
              "              style=\"display:none;\">\n",
              "        \n",
              "  <svg xmlns=\"http://www.w3.org/2000/svg\" height=\"24px\"viewBox=\"0 0 24 24\"\n",
              "       width=\"24px\">\n",
              "    <path d=\"M0 0h24v24H0V0z\" fill=\"none\"/>\n",
              "    <path d=\"M18.56 5.44l.94 2.06.94-2.06 2.06-.94-2.06-.94-.94-2.06-.94 2.06-2.06.94zm-11 1L8.5 8.5l.94-2.06 2.06-.94-2.06-.94L8.5 2.5l-.94 2.06-2.06.94zm10 10l.94 2.06.94-2.06 2.06-.94-2.06-.94-.94-2.06-.94 2.06-2.06.94z\"/><path d=\"M17.41 7.96l-1.37-1.37c-.4-.4-.92-.59-1.43-.59-.52 0-1.04.2-1.43.59L10.3 9.45l-7.72 7.72c-.78.78-.78 2.05 0 2.83L4 21.41c.39.39.9.59 1.41.59.51 0 1.02-.2 1.41-.59l7.78-7.78 2.81-2.81c.8-.78.8-2.07 0-2.86zM5.41 20L4 18.59l7.72-7.72 1.47 1.35L5.41 20z\"/>\n",
              "  </svg>\n",
              "      </button>\n",
              "      \n",
              "  <style>\n",
              "    .colab-df-container {\n",
              "      display:flex;\n",
              "      flex-wrap:wrap;\n",
              "      gap: 12px;\n",
              "    }\n",
              "\n",
              "    .colab-df-convert {\n",
              "      background-color: #E8F0FE;\n",
              "      border: none;\n",
              "      border-radius: 50%;\n",
              "      cursor: pointer;\n",
              "      display: none;\n",
              "      fill: #1967D2;\n",
              "      height: 32px;\n",
              "      padding: 0 0 0 0;\n",
              "      width: 32px;\n",
              "    }\n",
              "\n",
              "    .colab-df-convert:hover {\n",
              "      background-color: #E2EBFA;\n",
              "      box-shadow: 0px 1px 2px rgba(60, 64, 67, 0.3), 0px 1px 3px 1px rgba(60, 64, 67, 0.15);\n",
              "      fill: #174EA6;\n",
              "    }\n",
              "\n",
              "    [theme=dark] .colab-df-convert {\n",
              "      background-color: #3B4455;\n",
              "      fill: #D2E3FC;\n",
              "    }\n",
              "\n",
              "    [theme=dark] .colab-df-convert:hover {\n",
              "      background-color: #434B5C;\n",
              "      box-shadow: 0px 1px 3px 1px rgba(0, 0, 0, 0.15);\n",
              "      filter: drop-shadow(0px 1px 2px rgba(0, 0, 0, 0.3));\n",
              "      fill: #FFFFFF;\n",
              "    }\n",
              "  </style>\n",
              "\n",
              "      <script>\n",
              "        const buttonEl =\n",
              "          document.querySelector('#df-a96c3a4a-25c4-4f85-b44e-f5df1d2f25e8 button.colab-df-convert');\n",
              "        buttonEl.style.display =\n",
              "          google.colab.kernel.accessAllowed ? 'block' : 'none';\n",
              "\n",
              "        async function convertToInteractive(key) {\n",
              "          const element = document.querySelector('#df-a96c3a4a-25c4-4f85-b44e-f5df1d2f25e8');\n",
              "          const dataTable =\n",
              "            await google.colab.kernel.invokeFunction('convertToInteractive',\n",
              "                                                     [key], {});\n",
              "          if (!dataTable) return;\n",
              "\n",
              "          const docLinkHtml = 'Like what you see? Visit the ' +\n",
              "            '<a target=\"_blank\" href=https://colab.research.google.com/notebooks/data_table.ipynb>data table notebook</a>'\n",
              "            + ' to learn more about interactive tables.';\n",
              "          element.innerHTML = '';\n",
              "          dataTable['output_type'] = 'display_data';\n",
              "          await google.colab.output.renderOutput(dataTable, element);\n",
              "          const docLink = document.createElement('div');\n",
              "          docLink.innerHTML = docLinkHtml;\n",
              "          element.appendChild(docLink);\n",
              "        }\n",
              "      </script>\n",
              "    </div>\n",
              "  </div>\n",
              "  "
            ]
          },
          "metadata": {},
          "execution_count": 3
        }
      ]
    },
    {
      "cell_type": "markdown",
      "source": [
        "Splitting the dataset into the Training set and Test set"
      ],
      "metadata": {
        "id": "udIG1BJfZyEE"
      }
    },
    {
      "cell_type": "code",
      "source": [
        "X=data.iloc[:,2:4].values\n",
        "y=data.iloc[:,-1].values"
      ],
      "metadata": {
        "id": "pgOonc08KSFr"
      },
      "execution_count": 4,
      "outputs": []
    },
    {
      "cell_type": "code",
      "source": [
        "X.shape"
      ],
      "metadata": {
        "colab": {
          "base_uri": "https://localhost:8080/"
        },
        "id": "bMzIHCcxKVd7",
        "outputId": "2fd9526b-b854-4a61-984c-e53fdd7fb0c2"
      },
      "execution_count": 5,
      "outputs": [
        {
          "output_type": "execute_result",
          "data": {
            "text/plain": [
              "(400, 2)"
            ]
          },
          "metadata": {},
          "execution_count": 5
        }
      ]
    },
    {
      "cell_type": "code",
      "source": [
        "y.shape"
      ],
      "metadata": {
        "colab": {
          "base_uri": "https://localhost:8080/"
        },
        "id": "QpaUvnk2KW3T",
        "outputId": "8bceef8e-d61b-4c3e-b168-9459b57fd7eb"
      },
      "execution_count": 6,
      "outputs": [
        {
          "output_type": "execute_result",
          "data": {
            "text/plain": [
              "(400,)"
            ]
          },
          "metadata": {},
          "execution_count": 6
        }
      ]
    },
    {
      "cell_type": "code",
      "source": [
        "from sklearn.model_selection import train_test_split\n",
        "X_train,X_test,y_train,y_test=train_test_split(X,y,test_size=0.2)"
      ],
      "metadata": {
        "id": "dMr-BGxUKZtz"
      },
      "execution_count": 7,
      "outputs": []
    },
    {
      "cell_type": "markdown",
      "source": [
        "Feature Scaling"
      ],
      "metadata": {
        "id": "X4Bj4iyfZ1t8"
      }
    },
    {
      "cell_type": "code",
      "source": [
        "from sklearn.preprocessing import StandardScaler\n",
        "scaler = StandardScaler()"
      ],
      "metadata": {
        "id": "IXkELtp2he28"
      },
      "execution_count": 8,
      "outputs": []
    },
    {
      "cell_type": "markdown",
      "source": [
        "Fitting K-NN to the Training set\n",
        "\n"
      ],
      "metadata": {
        "id": "3-x1HKt1hkmG"
      }
    },
    {
      "cell_type": "code",
      "source": [
        "X_train = scaler.fit_transform(X_train)\n",
        "X_train"
      ],
      "metadata": {
        "colab": {
          "base_uri": "https://localhost:8080/"
        },
        "id": "0nUNnygkKdJb",
        "outputId": "a807eebd-5703-48b2-961e-7a933dfdca73"
      },
      "execution_count": 9,
      "outputs": [
        {
          "output_type": "execute_result",
          "data": {
            "text/plain": [
              "array([[ 2.12976792, -1.09362637],\n",
              "       [-1.41485566, -0.24235538],\n",
              "       [ 0.40535645,  0.05118634],\n",
              "       [-0.45684929,  1.22535321],\n",
              "       [-0.84005184,  2.25274923],\n",
              "       [ 0.69275836, -1.32845974],\n",
              "       [-1.12745375, -0.82943882],\n",
              "       [-1.31905503, -1.41652226],\n",
              "       [-1.31905503, -0.47718876],\n",
              "       [ 0.21375517, -0.00752201],\n",
              "       [ 1.17176155, -0.80008465],\n",
              "       [ 1.26756218,  1.84179082],\n",
              "       [ 0.88435963,  1.04922818],\n",
              "       [-0.07364674,  0.1979572 ],\n",
              "       [ 2.03396728,  0.49149892],\n",
              "       [ 1.93816665,  0.69697812],\n",
              "       [-0.26524801, -1.35781391],\n",
              "       [-0.26524801, -0.30106373],\n",
              "       [ 0.88435963, -1.09362637],\n",
              "       [-1.60645694, -1.62200146],\n",
              "       [ 1.36336282,  1.95920751],\n",
              "       [ 0.40535645, -0.03687618],\n",
              "       [ 1.07596091, -1.2697514 ],\n",
              "       [ 0.21375517,  0.10989468],\n",
              "       [ 0.0221539 ,  0.25666554],\n",
              "       [-1.03165311, -0.38912624],\n",
              "       [ 1.84236601, -0.3304179 ],\n",
              "       [ 2.12976792,  1.07858235],\n",
              "       [ 0.11795453,  1.01987401],\n",
              "       [-0.07364674,  2.13533254],\n",
              "       [ 1.74656537,  1.81243665],\n",
              "       [-0.16944738, -0.56525127],\n",
              "       [ 0.21375517, -0.41848041],\n",
              "       [ 0.98016027,  0.08054051],\n",
              "       [-0.55264993,  1.3427699 ],\n",
              "       [-1.31905503, -0.38912624],\n",
              "       [-1.70225758, -0.65331379],\n",
              "       [ 0.11795453, -0.00752201],\n",
              "       [ 0.11795453,  0.22731137],\n",
              "       [-1.5106563 , -1.56329312],\n",
              "       [-1.79805821,  0.13924885],\n",
              "       [ 0.30955581, -1.21104306],\n",
              "       [ 0.30955581, -0.3304179 ],\n",
              "       [-1.79805821, -1.53393895],\n",
              "       [ 0.50115708,  1.69501996],\n",
              "       [ 2.12976792,  0.90245732],\n",
              "       [ 2.03396728,  0.13924885],\n",
              "       [-0.26524801,  0.49149892],\n",
              "       [-1.03165311, -0.38912624],\n",
              "       [ 0.0221539 , -0.62395962],\n",
              "       [-0.45684929, -0.06623035],\n",
              "       [-0.26524801,  0.57956143],\n",
              "       [-0.26524801, -0.80008465],\n",
              "       [-1.22325439, -1.12298054],\n",
              "       [ 0.88435963, -1.41652226],\n",
              "       [ 1.45916346,  2.10597837],\n",
              "       [ 2.03396728, -1.24039723],\n",
              "       [-1.12745375,  0.37408223],\n",
              "       [ 0.69275836, -1.15233471],\n",
              "       [-0.93585248,  0.4034364 ],\n",
              "       [ 1.93816665,  2.13533254],\n",
              "       [ 1.84236601,  1.48954076],\n",
              "       [-0.7442512 , -0.65331379],\n",
              "       [-1.31905503,  0.52085309],\n",
              "       [ 1.84236601, -1.32845974],\n",
              "       [ 0.30955581,  0.02183217],\n",
              "       [ 0.88435963, -1.35781391],\n",
              "       [ 2.03396728,  2.10597837],\n",
              "       [-1.03165311,  0.72633229],\n",
              "       [-1.70225758, -1.41652226],\n",
              "       [ 0.98016027, -1.12298054],\n",
              "       [-0.07364674,  0.08054051],\n",
              "       [ 0.88435963,  0.99051984],\n",
              "       [ 0.11795453,  0.05118634],\n",
              "       [-1.5106563 , -0.24235538],\n",
              "       [ 1.84236601,  0.08054051],\n",
              "       [ 0.98016027,  1.95920751],\n",
              "       [-1.89385885,  0.43279057],\n",
              "       [-0.84005184,  0.34472806],\n",
              "       [ 0.0221539 , -0.35977207],\n",
              "       [ 0.40535645,  0.25666554],\n",
              "       [ 0.30955581, -0.56525127],\n",
              "       [ 1.74656537, -0.3304179 ],\n",
              "       [-0.7442512 ,  0.25666554],\n",
              "       [-0.26524801, -0.47718876],\n",
              "       [ 0.40535645,  0.22731137],\n",
              "       [-0.07364674,  0.10989468],\n",
              "       [ 0.0221539 , -0.30106373],\n",
              "       [-1.03165311, -1.18168888],\n",
              "       [-1.12745375, -0.56525127],\n",
              "       [-0.55264993,  1.43083242],\n",
              "       [-0.26524801,  0.02183217],\n",
              "       [-1.22325439, -1.44587643],\n",
              "       [-1.5106563 , -0.47718876],\n",
              "       [ 0.98016027, -1.0642722 ],\n",
              "       [ 0.11795453,  1.48954076],\n",
              "       [-0.26524801,  0.02183217],\n",
              "       [-1.60645694,  0.02183217],\n",
              "       [-1.03165311, -0.50654293],\n",
              "       [ 0.0221539 , -0.59460544],\n",
              "       [ 0.11795453,  1.84179082],\n",
              "       [-0.55264993,  0.43279057],\n",
              "       [ 1.5549641 ,  1.07858235],\n",
              "       [-0.84005184,  0.10989468],\n",
              "       [ 1.07596091,  0.49149892],\n",
              "       [-0.26524801, -0.3304179 ],\n",
              "       [ 0.98016027,  0.55020726],\n",
              "       [ 1.36336282, -0.97620968],\n",
              "       [ 0.59695772,  1.98856168],\n",
              "       [-0.26524801, -0.97620968],\n",
              "       [ 0.21375517,  2.0766242 ],\n",
              "       [ 0.11795453,  0.16860302],\n",
              "       [-0.45684929, -1.18168888],\n",
              "       [ 0.30955581,  0.46214474],\n",
              "       [-0.07364674,  0.25666554],\n",
              "       [ 0.21375517, -0.71202213],\n",
              "       [ 1.36336282, -1.4752306 ],\n",
              "       [-0.55264993, -1.56329312],\n",
              "       [ 0.0221539 , -0.00752201],\n",
              "       [-0.26524801, -1.50458477],\n",
              "       [ 0.40535645, -0.21300121],\n",
              "       [ 0.0221539 , -0.62395962],\n",
              "       [ 0.40535645,  2.2821034 ],\n",
              "       [-0.07364674, -0.41848041],\n",
              "       [ 1.5549641 ,  0.96116567],\n",
              "       [ 1.07596091, -0.94685551],\n",
              "       [-0.7442512 ,  0.52085309],\n",
              "       [-0.64845056, -1.56329312],\n",
              "       [ 0.0221539 , -0.30106373],\n",
              "       [-0.16944738,  0.10989468],\n",
              "       [-1.31905503, -1.29910557],\n",
              "       [ 0.30955581, -0.35977207],\n",
              "       [ 1.65076473, -0.94685551],\n",
              "       [ 0.40535645,  1.07858235],\n",
              "       [ 0.788559  ,  0.31537388],\n",
              "       [-0.26524801,  0.16860302],\n",
              "       [ 0.98016027, -0.88814716],\n",
              "       [ 0.30955581,  0.02183217],\n",
              "       [ 0.21375517, -0.35977207],\n",
              "       [-1.79805821,  0.4034364 ],\n",
              "       [-1.22325439,  0.25666554],\n",
              "       [ 0.788559  , -1.2697514 ],\n",
              "       [ 0.788559  , -0.35977207],\n",
              "       [ 0.0221539 ,  1.22535321],\n",
              "       [-0.84005184, -1.2697514 ],\n",
              "       [ 1.45916346,  0.96116567],\n",
              "       [-0.26524801, -0.62395962],\n",
              "       [-0.07364674, -0.56525127],\n",
              "       [-0.84005184,  0.25666554],\n",
              "       [ 1.07596091, -0.18364704],\n",
              "       [-0.45684929, -0.3304179 ],\n",
              "       [-0.16944738, -1.12298054],\n",
              "       [ 0.788559  , -1.44587643],\n",
              "       [ 0.11795453,  0.10989468],\n",
              "       [ 0.11795453, -0.30106373],\n",
              "       [-1.03165311,  0.49149892],\n",
              "       [-0.93585248, -0.35977207],\n",
              "       [-1.12745375, -1.65135563],\n",
              "       [-0.7442512 ,  1.04922818],\n",
              "       [-0.26524801,  1.07858235],\n",
              "       [ 1.07596091, -1.03491802],\n",
              "       [-1.41485566, -0.68266796],\n",
              "       [-1.60645694, -0.09558452],\n",
              "       [-1.31905503,  0.37408223],\n",
              "       [-1.79805821, -0.03687618],\n",
              "       [-0.16944738, -0.24235538],\n",
              "       [ 0.98016027,  2.04727003],\n",
              "       [-0.93585248,  0.22731137],\n",
              "       [-0.07364674,  0.63826978],\n",
              "       [-0.16944738,  1.37212407],\n",
              "       [-0.07364674,  0.02183217],\n",
              "       [ 0.21375517, -0.18364704],\n",
              "       [ 0.30955581, -0.00752201],\n",
              "       [-0.26524801, -1.44587643],\n",
              "       [ 0.30955581,  0.22731137],\n",
              "       [ 0.88435963, -0.65331379],\n",
              "       [-1.22325439,  0.46214474],\n",
              "       [-1.89385885, -0.09558452],\n",
              "       [-0.84005184,  0.34472806],\n",
              "       [ 0.50115708,  1.19599904],\n",
              "       [-1.79805821, -1.32845974],\n",
              "       [-1.89385885, -0.56525127],\n",
              "       [-0.36104865,  0.02183217],\n",
              "       [ 1.07596091, -1.2697514 ],\n",
              "       [-0.07364674, -0.5358971 ],\n",
              "       [ 0.30955581,  0.02183217],\n",
              "       [-0.26524801, -0.62395962],\n",
              "       [ 0.40535645,  0.96116567],\n",
              "       [ 0.88435963, -0.62395962],\n",
              "       [-0.36104865, -1.35781391],\n",
              "       [ 0.788559  ,  1.3427699 ],\n",
              "       [ 0.98016027, -1.21104306],\n",
              "       [-0.26524801, -0.71202213],\n",
              "       [ 1.65076473,  1.72437414],\n",
              "       [-0.55264993, -1.56329312],\n",
              "       [ 0.21375517,  1.04922818],\n",
              "       [ 0.11795453, -0.35977207],\n",
              "       [-0.55264993,  1.871145  ],\n",
              "       [-0.07364674,  1.92985334],\n",
              "       [-0.64845056, -1.09362637],\n",
              "       [-1.12745375,  0.25666554],\n",
              "       [-0.7442512 , -1.65135563],\n",
              "       [ 1.84236601, -1.12298054],\n",
              "       [-0.64845056, -0.38912624],\n",
              "       [-1.31905503, -1.53393895],\n",
              "       [-0.93585248,  1.51889493],\n",
              "       [-1.70225758,  0.31537388],\n",
              "       [ 0.788559  ,  0.22731137],\n",
              "       [-0.7442512 ,  1.871145  ],\n",
              "       [-1.03165311, -0.41848041],\n",
              "       [-1.03165311,  1.92985334],\n",
              "       [-0.16944738,  1.57760328],\n",
              "       [ 0.40535645, -0.50654293],\n",
              "       [-1.70225758, -1.03491802],\n",
              "       [ 0.30955581,  0.25666554],\n",
              "       [-0.26524801,  0.75568646],\n",
              "       [ 0.788559  , -0.88814716],\n",
              "       [-1.12745375,  0.02183217],\n",
              "       [ 0.30955581, -0.59460544],\n",
              "       [ 1.07596091,  2.04727003],\n",
              "       [ 0.788559  , -1.41652226],\n",
              "       [ 0.40535645, -0.18364704],\n",
              "       [-0.26524801, -0.00752201],\n",
              "       [ 1.93816665, -1.41652226],\n",
              "       [-0.07364674, -0.00752201],\n",
              "       [ 0.98016027,  1.40147825],\n",
              "       [ 0.0221539 ,  1.19599904],\n",
              "       [-0.36104865,  1.19599904],\n",
              "       [-0.64845056,  1.37212407],\n",
              "       [ 0.88435963,  1.22535321],\n",
              "       [ 0.0221539 , -0.47718876],\n",
              "       [-1.03165311,  0.52085309],\n",
              "       [ 1.07596091,  0.52085309],\n",
              "       [-0.7442512 , -0.27170955],\n",
              "       [ 0.21375517,  0.02183217],\n",
              "       [-0.07364674,  0.22731137],\n",
              "       [-0.26524801, -0.18364704],\n",
              "       [-0.07364674,  2.19404089],\n",
              "       [-0.26524801,  0.10989468],\n",
              "       [ 1.93816665, -0.71202213],\n",
              "       [-1.41485566, -1.50458477],\n",
              "       [-1.12745375, -1.0642722 ],\n",
              "       [ 0.0221539 , -0.18364704],\n",
              "       [-1.03165311,  0.37408223],\n",
              "       [ 1.74656537,  0.96116567],\n",
              "       [-0.7442512 ,  0.46214474],\n",
              "       [ 0.98016027,  1.84179082],\n",
              "       [-0.93585248, -1.00556385],\n",
              "       [-0.16944738,  0.81439481],\n",
              "       [-0.16944738,  2.13533254],\n",
              "       [ 1.17176155, -1.50458477],\n",
              "       [-1.03165311,  0.55020726],\n",
              "       [-0.26524801, -1.29910557],\n",
              "       [ 1.26756218,  2.19404089],\n",
              "       [ 0.50115708,  1.81243665],\n",
              "       [-1.70225758,  0.43279057],\n",
              "       [-1.41485566,  0.31537388],\n",
              "       [ 1.5549641 , -0.03687618],\n",
              "       [ 0.59695772, -0.94685551],\n",
              "       [ 0.788559  , -1.15233471],\n",
              "       [-0.07364674,  0.25666554],\n",
              "       [ 0.11795453,  0.72633229],\n",
              "       [ 2.03396728,  1.72437414],\n",
              "       [-0.26524801, -0.94685551],\n",
              "       [ 0.30955581, -0.56525127],\n",
              "       [-0.45684929, -0.88814716],\n",
              "       [-0.93585248, -0.80008465],\n",
              "       [-1.89385885,  0.31537388],\n",
              "       [ 0.21375517, -0.41848041],\n",
              "       [ 0.40535645, -0.50654293],\n",
              "       [-0.93585248,  0.52085309],\n",
              "       [-0.26524801, -1.41652226],\n",
              "       [-1.70225758,  0.08054051],\n",
              "       [ 0.88435963, -1.21104306],\n",
              "       [ 0.88435963,  2.13533254],\n",
              "       [ 2.12976792,  0.34472806],\n",
              "       [ 0.788559  ,  0.49149892],\n",
              "       [-1.12745375,  0.28601971],\n",
              "       [ 0.11795453,  1.84179082],\n",
              "       [-0.26524801, -0.41848041],\n",
              "       [-0.26524801, -0.5358971 ],\n",
              "       [ 0.98016027,  1.75372831],\n",
              "       [-0.07364674, -0.27170955],\n",
              "       [-0.64845056,  0.08054051],\n",
              "       [-1.89385885, -0.80008465],\n",
              "       [-0.64845056,  0.52085309],\n",
              "       [ 0.98016027, -1.12298054],\n",
              "       [ 1.36336282,  2.31145758],\n",
              "       [-1.22325439,  0.55020726],\n",
              "       [-1.31905503, -0.47718876],\n",
              "       [-0.64845056, -0.00752201],\n",
              "       [-0.26524801, -0.35977207],\n",
              "       [-0.45684929, -0.82943882],\n",
              "       [ 0.11795453, -0.85879299],\n",
              "       [ 1.17176155, -1.03491802],\n",
              "       [-0.16944738, -0.62395962],\n",
              "       [-1.70225758,  0.31537388],\n",
              "       [ 0.69275836, -1.44587643],\n",
              "       [-1.41485566, -0.15429287],\n",
              "       [-0.93585248, -1.15233471],\n",
              "       [ 2.12976792, -0.85879299],\n",
              "       [ 0.21375517, -0.30106373],\n",
              "       [ 0.69275836,  0.22731137],\n",
              "       [ 1.07596091,  0.43279057],\n",
              "       [-0.64845056, -1.65135563],\n",
              "       [ 1.36336282,  1.25470739],\n",
              "       [ 2.12976792, -0.85879299],\n",
              "       [ 0.98016027, -1.24039723],\n",
              "       [ 1.36336282,  0.55020726],\n",
              "       [ 0.21375517,  0.10989468],\n",
              "       [-0.84005184, -0.30106373],\n",
              "       [ 0.69275836, -1.44587643],\n",
              "       [-1.12745375,  0.25666554],\n",
              "       [-0.55264993,  1.3427699 ],\n",
              "       [-0.07364674,  0.16860302],\n",
              "       [ 0.0221539 , -0.00752201],\n",
              "       [-0.07364674, -0.47718876],\n",
              "       [-0.93585248,  0.46214474],\n",
              "       [-0.7442512 ,  0.22731137],\n",
              "       [ 0.40535645, -0.5358971 ]])"
            ]
          },
          "metadata": {},
          "execution_count": 9
        }
      ]
    },
    {
      "cell_type": "code",
      "source": [
        "np.sqrt(X_train.shape[0])"
      ],
      "metadata": {
        "colab": {
          "base_uri": "https://localhost:8080/"
        },
        "id": "F_XyGQu_Kimb",
        "outputId": "df83df62-38dc-4d65-ec92-4a6e72101c79"
      },
      "execution_count": 10,
      "outputs": [
        {
          "output_type": "execute_result",
          "data": {
            "text/plain": [
              "17.88854381999832"
            ]
          },
          "metadata": {},
          "execution_count": 10
        }
      ]
    },
    {
      "cell_type": "code",
      "source": [
        "k = 17"
      ],
      "metadata": {
        "id": "Q9gEf7b5KkTT"
      },
      "execution_count": 11,
      "outputs": []
    },
    {
      "cell_type": "code",
      "source": [
        "from sklearn.neighbors import KNeighborsClassifier\n",
        "knn = KNeighborsClassifier(n_neighbors=k)"
      ],
      "metadata": {
        "id": "b_vd78GBKlw7"
      },
      "execution_count": 12,
      "outputs": []
    },
    {
      "cell_type": "code",
      "source": [
        "knn.fit(X_train,y_train)"
      ],
      "metadata": {
        "colab": {
          "base_uri": "https://localhost:8080/"
        },
        "id": "rXk8DvZEiF9_",
        "outputId": "bf6feb87-8693-4e16-8a9e-0b29e7267075"
      },
      "execution_count": 17,
      "outputs": [
        {
          "output_type": "execute_result",
          "data": {
            "text/plain": [
              "KNeighborsClassifier(n_neighbors=1)"
            ]
          },
          "metadata": {},
          "execution_count": 17
        }
      ]
    },
    {
      "cell_type": "code",
      "source": [
        "y_pred = knn.predict(X_test)"
      ],
      "metadata": {
        "id": "FQmP90OEiK1m"
      },
      "execution_count": 18,
      "outputs": []
    },
    {
      "cell_type": "code",
      "source": [
        "y_pred.shape"
      ],
      "metadata": {
        "colab": {
          "base_uri": "https://localhost:8080/"
        },
        "id": "CgbaiBW2iOEW",
        "outputId": "1cf68571-762e-4de1-c7e4-33308e9f4034"
      },
      "execution_count": 19,
      "outputs": [
        {
          "output_type": "execute_result",
          "data": {
            "text/plain": [
              "(80,)"
            ]
          },
          "metadata": {},
          "execution_count": 19
        }
      ]
    },
    {
      "cell_type": "code",
      "source": [
        "y_test.shape"
      ],
      "metadata": {
        "colab": {
          "base_uri": "https://localhost:8080/"
        },
        "id": "wFzjSeuqiQHr",
        "outputId": "ff4eacf7-2f92-4553-a2c6-e6e2747a86ab"
      },
      "execution_count": 20,
      "outputs": [
        {
          "output_type": "execute_result",
          "data": {
            "text/plain": [
              "(80,)"
            ]
          },
          "metadata": {},
          "execution_count": 20
        }
      ]
    },
    {
      "cell_type": "markdown",
      "source": [
        "Predicting the Test set results"
      ],
      "metadata": {
        "id": "1TyySUbJiSzp"
      }
    },
    {
      "cell_type": "code",
      "source": [
        "from sklearn.metrics import accuracy_score\n",
        "accuracy_score(y_test,y_pred)"
      ],
      "metadata": {
        "colab": {
          "base_uri": "https://localhost:8080/"
        },
        "id": "1wAj6xMwiVjO",
        "outputId": "242a0fd6-86df-48e6-938e-879713c3df23"
      },
      "execution_count": 21,
      "outputs": [
        {
          "output_type": "execute_result",
          "data": {
            "text/plain": [
              "0.2875"
            ]
          },
          "metadata": {},
          "execution_count": 21
        }
      ]
    },
    {
      "cell_type": "code",
      "source": [
        "from sklearn.metrics import confusion_matrix\n",
        "confusion_matrix(y_test,y_pred)"
      ],
      "metadata": {
        "colab": {
          "base_uri": "https://localhost:8080/"
        },
        "id": "vsQvINORik01",
        "outputId": "32215082-3609-4294-8e3e-057a79eaac99"
      },
      "execution_count": 22,
      "outputs": [
        {
          "output_type": "execute_result",
          "data": {
            "text/plain": [
              "array([[ 0, 57],\n",
              "       [ 0, 23]])"
            ]
          },
          "metadata": {},
          "execution_count": 22
        }
      ]
    },
    {
      "cell_type": "code",
      "source": [
        "accuracy = []\n",
        "\n",
        "for i in range(1,26):\n",
        "    knn = KNeighborsClassifier(n_neighbors=i)\n",
        "    knn.fit(X_train,y_train)\n",
        "    accuracy.append(accuracy_score(y_test,knn.predict(X_test)))"
      ],
      "metadata": {
        "id": "X_OtmXUvisLV"
      },
      "execution_count": 23,
      "outputs": []
    }
  ]
}